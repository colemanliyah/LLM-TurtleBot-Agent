{
 "cells": [
  {
   "cell_type": "markdown",
   "metadata": {},
   "source": [
    "### Running Chat without Preloading the Model"
   ]
  },
  {
   "cell_type": "code",
   "execution_count": 3,
   "metadata": {},
   "outputs": [],
   "source": [
    "import ollama\n",
    "import httpx"
   ]
  },
  {
   "cell_type": "code",
   "execution_count": 2,
   "metadata": {},
   "outputs": [
    {
     "name": "stdout",
     "output_type": "stream",
     "text": [
      "Connecting to URL: https://example.com/api\n"
     ]
    }
   ],
   "source": [
    "url = 'https://example.com/api'\n",
    "print(f\"Connecting to URL: {url}\")"
   ]
  },
  {
   "cell_type": "code",
   "execution_count": 4,
   "metadata": {},
   "outputs": [
    {
     "name": "stdout",
     "output_type": "stream",
     "text": [
      "{'model': 'llama3', 'created_at': '2024-07-27T15:36:07.5562961Z', 'message': {'role': 'assistant', 'content': \"That's an easy one!\\n\\nThe answer to 1 + 1 is... (drumroll please)... 2!\"}, 'done_reason': 'stop', 'done': True, 'total_duration': 22916681600, 'load_duration': 14320482800, 'prompt_eval_count': 18, 'prompt_eval_duration': 2017832000, 'eval_count': 26, 'eval_duration': 6572829000}\n"
     ]
    }
   ],
   "source": [
    "try:\n",
    "    response = ollama.chat(model='llama3', messages=[\n",
    "        {\n",
    "            'role': 'user',\n",
    "            'content': 'What is 1 + 1?',\n",
    "        },\n",
    "    ])\n",
    "    print(response)\n",
    "except httpx.ConnectError as e:\n",
    "    print(f\"Connection error: {e}\")"
   ]
  },
  {
   "cell_type": "code",
   "execution_count": 3,
   "metadata": {},
   "outputs": [
    {
     "name": "stdout",
     "output_type": "stream",
     "text": [
      "{'model': 'llama3', 'created_at': '2024-07-27T14:06:37.2676516Z', 'message': {'role': 'assistant', 'content': \"The sky appears blue because of a phenomenon called Rayleigh scattering, named after the British physicist Lord Rayleigh, who first described it in the late 19th century.\\n\\nHere's what happens:\\n\\n1. **Light from the sun**: When sunlight enters Earth's atmosphere, it contains all the colors of the visible spectrum (red, orange, yellow, green, blue, indigo, and violet).\\n2. **Scattering by tiny molecules**: As this light travels through the atmosphere, it encounters tiny molecules of gases like nitrogen (N2) and oxygen (O2). These molecules are much smaller than the wavelength of light.\\n3. **Blue light is scattered more**: When the light hits these tiny molecules, some of the shorter wavelengths, like blue and violet, are scattered in all directions by the molecules. This scattering effect is more pronounced for shorter wavelengths because they have a higher frequency and are more easily deflected by the smaller molecules.\\n4. **Red light continues to travel straight**: The longer wavelengths, like red and orange, continue to travel in a straight line, with minimal scattering. This is because they have lower frequencies and don't interact as much with the tiny molecules.\\n5. **Blue light dominates our view**: As we look up at the sky, we see the scattered blue light being emitted in all directions from all parts of the atmosphere. Since there's more blue light being scattered than other colors, our brain interprets this as a blue color.\\n\\nThe exact shade of blue can vary depending on factors like:\\n\\n* Time of day (blue is more pronounced during midday)\\n* Atmospheric conditions (e.g., dust, pollution, or water vapor can affect the color)\\n* Observer's location (the color may appear different at higher altitudes or near large bodies of water)\\n\\nSo, to summarize: the sky appears blue because of the scattering of sunlight by tiny molecules in the atmosphere, with shorter wavelengths like blue and violet being scattered more than longer wavelengths.\"}, 'done_reason': 'stop', 'done': True, 'total_duration': 219972666300, 'load_duration': 69367655700, 'prompt_eval_count': 16, 'prompt_eval_duration': 5558906000, 'eval_count': 397, 'eval_duration': 145037093000}\n"
     ]
    }
   ],
   "source": [
    "try:\n",
    "    response = ollama.chat(model='llama3', messages=[\n",
    "        {\n",
    "            'role': 'user',\n",
    "            'content': 'Why is the sky blue?',\n",
    "        },\n",
    "    ])\n",
    "    print(response)\n",
    "except httpx.ConnectError as e:\n",
    "    print(f\"Connection error: {e}\")"
   ]
  },
  {
   "cell_type": "code",
   "execution_count": 4,
   "metadata": {},
   "outputs": [
    {
     "data": {
      "text/plain": [
       "{'model': 'llama3',\n",
       " 'created_at': '2024-07-27T14:06:37.2676516Z',\n",
       " 'message': {'role': 'assistant',\n",
       "  'content': \"The sky appears blue because of a phenomenon called Rayleigh scattering, named after the British physicist Lord Rayleigh, who first described it in the late 19th century.\\n\\nHere's what happens:\\n\\n1. **Light from the sun**: When sunlight enters Earth's atmosphere, it contains all the colors of the visible spectrum (red, orange, yellow, green, blue, indigo, and violet).\\n2. **Scattering by tiny molecules**: As this light travels through the atmosphere, it encounters tiny molecules of gases like nitrogen (N2) and oxygen (O2). These molecules are much smaller than the wavelength of light.\\n3. **Blue light is scattered more**: When the light hits these tiny molecules, some of the shorter wavelengths, like blue and violet, are scattered in all directions by the molecules. This scattering effect is more pronounced for shorter wavelengths because they have a higher frequency and are more easily deflected by the smaller molecules.\\n4. **Red light continues to travel straight**: The longer wavelengths, like red and orange, continue to travel in a straight line, with minimal scattering. This is because they have lower frequencies and don't interact as much with the tiny molecules.\\n5. **Blue light dominates our view**: As we look up at the sky, we see the scattered blue light being emitted in all directions from all parts of the atmosphere. Since there's more blue light being scattered than other colors, our brain interprets this as a blue color.\\n\\nThe exact shade of blue can vary depending on factors like:\\n\\n* Time of day (blue is more pronounced during midday)\\n* Atmospheric conditions (e.g., dust, pollution, or water vapor can affect the color)\\n* Observer's location (the color may appear different at higher altitudes or near large bodies of water)\\n\\nSo, to summarize: the sky appears blue because of the scattering of sunlight by tiny molecules in the atmosphere, with shorter wavelengths like blue and violet being scattered more than longer wavelengths.\"},\n",
       " 'done_reason': 'stop',\n",
       " 'done': True,\n",
       " 'total_duration': 219972666300,\n",
       " 'load_duration': 69367655700,\n",
       " 'prompt_eval_count': 16,\n",
       " 'prompt_eval_duration': 5558906000,\n",
       " 'eval_count': 397,\n",
       " 'eval_duration': 145037093000}"
      ]
     },
     "execution_count": 4,
     "metadata": {},
     "output_type": "execute_result"
    }
   ],
   "source": [
    "response"
   ]
  },
  {
   "cell_type": "markdown",
   "metadata": {},
   "source": [
    "### Preloaded Model"
   ]
  },
  {
   "cell_type": "code",
   "execution_count": 1,
   "metadata": {},
   "outputs": [
    {
     "name": "stdout",
     "output_type": "stream",
     "text": [
      "Model llama3 preloaded successfully.\n"
     ]
    }
   ],
   "source": [
    "import requests\n",
    "import json\n",
    "\n",
    "# Define the API endpoint and model details\n",
    "api_url = \"http://localhost:11434/api/chat\"\n",
    "model_name = \"llama3\"\n",
    "\n",
    "# Function to preload the model\n",
    "def preload_model(api_url, model_name):\n",
    "    headers = {'Content-Type': 'application/json'}\n",
    "    data = {'model': model_name}\n",
    "    response = requests.post(api_url, headers=headers, data=json.dumps(data))\n",
    "    \n",
    "    if response.status_code == 200:\n",
    "        print(f\"Model {model_name} preloaded successfully.\")\n",
    "    else:\n",
    "        print(f\"Failed to preload model {model_name}. Response code: {response.status_code}\")\n",
    "        print(response.text)\n",
    "\n",
    "# Preload the model\n",
    "preload_model(api_url, model_name)"
   ]
  },
  {
   "cell_type": "code",
   "execution_count": 4,
   "metadata": {},
   "outputs": [],
   "source": [
    "# Function to generate text using the preloaded model\n",
    "def generate_text(generate_url, model_name, prompt):\n",
    "    headers = {'Content-Type': 'application/json'}\n",
    "    data = {\n",
    "        'model': model_name,\n",
    "        'messages': [\n",
    "            {\n",
    "                'role': 'user',\n",
    "                'content': prompt,\n",
    "            }\n",
    "        ],\n",
    "        'stream': True\n",
    "    }\n",
    "\n",
    "    try: \n",
    "        response = requests.post(generate_url, headers=headers, data=json.dumps(data), stream=True)\n",
    "\n",
    "        complete_message = []\n",
    "        \n",
    "        # Iterate over the streamed response\n",
    "        for chunk in response.iter_lines():\n",
    "            if chunk:\n",
    "                try:\n",
    "                    # Decode the JSON chunk\n",
    "                    json_chunk = json.loads(chunk)\n",
    "                    \n",
    "                    # Append content to the message list\n",
    "                    content = json_chunk.get('message', {}).get('content', '')\n",
    "                    if content:\n",
    "                        complete_message.append(content)\n",
    "                    \n",
    "                    # Break if the response is complete\n",
    "                    if json_chunk.get('done'):\n",
    "                        break\n",
    "                except json.JSONDecodeError as e:\n",
    "                    print(f\"JSON decode error: {e}\")\n",
    "        \n",
    "        # Combine all chunks into a single string\n",
    "        one_string = ''.join(complete_message)\n",
    "        print(one_string)\n",
    "\n",
    "    except requests.RequestException as e:\n",
    "        print(f\"Request error: {e}\")\n",
    "    "
   ]
  },
  {
   "cell_type": "code",
   "execution_count": 5,
   "metadata": {},
   "outputs": [
    {
     "name": "stdout",
     "output_type": "stream",
     "text": [
      "The answer to 1 + 1 is 2.\n",
      "None\n"
     ]
    }
   ],
   "source": [
    "generate_url = \"http://localhost:11434/api/chat\"\n",
    "result = generate_text(generate_url, model_name, \"What is 1 + 1?\")\n",
    "print(result)\n"
   ]
  },
  {
   "cell_type": "markdown",
   "metadata": {},
   "source": [
    "### Explorigng with Generate"
   ]
  },
  {
   "cell_type": "code",
   "execution_count": 3,
   "metadata": {},
   "outputs": [
    {
     "name": "stdout",
     "output_type": "stream",
     "text": [
      "The answer to 1 + 1 is... 2!\n"
     ]
    }
   ],
   "source": [
    "from ollama import generate\n",
    "\n",
    "response = generate('llama3', 'what is 1 + 1?')\n",
    "print(response['response'])"
   ]
  },
  {
   "cell_type": "code",
   "execution_count": 4,
   "metadata": {},
   "outputs": [
    {
     "data": {
      "text/plain": [
       "{'model': 'llama3',\n",
       " 'created_at': '2024-07-27T15:48:44.5627373Z',\n",
       " 'response': 'The answer to 1 + 1 is... 2!',\n",
       " 'done': True,\n",
       " 'done_reason': 'stop',\n",
       " 'context': [128006,\n",
       "  882,\n",
       "  128007,\n",
       "  271,\n",
       "  12840,\n",
       "  374,\n",
       "  220,\n",
       "  16,\n",
       "  489,\n",
       "  220,\n",
       "  16,\n",
       "  30,\n",
       "  128009,\n",
       "  128006,\n",
       "  78191,\n",
       "  128007,\n",
       "  271,\n",
       "  791,\n",
       "  4320,\n",
       "  311,\n",
       "  220,\n",
       "  16,\n",
       "  489,\n",
       "  220,\n",
       "  16,\n",
       "  374,\n",
       "  1131,\n",
       "  220,\n",
       "  17,\n",
       "  0],\n",
       " 'total_duration': 126820022300,\n",
       " 'load_duration': 112882956700,\n",
       " 'prompt_eval_count': 18,\n",
       " 'prompt_eval_duration': 5682312000,\n",
       " 'eval_count': 14,\n",
       " 'eval_duration': 8241180000}"
      ]
     },
     "execution_count": 4,
     "metadata": {},
     "output_type": "execute_result"
    }
   ],
   "source": [
    "response"
   ]
  },
  {
   "cell_type": "code",
   "execution_count": null,
   "metadata": {},
   "outputs": [],
   "source": []
  }
 ],
 "metadata": {
  "kernelspec": {
   "display_name": "Python 3",
   "language": "python",
   "name": "python3"
  },
  "language_info": {
   "codemirror_mode": {
    "name": "ipython",
    "version": 3
   },
   "file_extension": ".py",
   "mimetype": "text/x-python",
   "name": "python",
   "nbconvert_exporter": "python",
   "pygments_lexer": "ipython3",
   "version": "3.10.12"
  }
 },
 "nbformat": 4,
 "nbformat_minor": 2
}
